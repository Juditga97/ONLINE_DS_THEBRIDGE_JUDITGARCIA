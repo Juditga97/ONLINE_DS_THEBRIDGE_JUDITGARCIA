{
 "cells": [
  {
   "cell_type": "markdown",
   "id": "67c8bc22-622b-472b-8281-aa3d0775f70e",
   "metadata": {},
   "source": [
    "# **Markdown Práctica Obligatoria**"
   ]
  },
  {
   "cell_type": "markdown",
   "id": "dab36fa6-5ad0-421d-a274-00774d8ed4bc",
   "metadata": {},
   "source": [
    "## **Ejercicio 1**"
   ]
  },
  {
   "cell_type": "markdown",
   "id": "f18007fc-f9dc-42ec-9cd3-246908aa7d58",
   "metadata": {},
   "source": [
    "Vamos a aplicar los conocimientos adquiridos en este notebook, intentando reproducir la siguiente imagen en una celda markdown con  \n",
    "su sintaxis. En el link va la página: https://www.kaggle.com/  \n",
    "\n",
    "**TIP** en __[este enlace](https://www.markdownguide.org/basic-syntax/)__ tienes más ejemplos, por si te atascas con algo :)"
   ]
  },
  {
   "cell_type": "markdown",
   "id": "a71368d8-a5d6-4bf7-a8df-25d43db66eb5",
   "metadata": {},
   "source": [
    "**Lo más importante**\n",
    "\n",
    "* Matemáticas\n",
    "* Python\n",
    "* SQL"
   ]
  },
  {
   "cell_type": "markdown",
   "id": "6dba2b2c-aa3a-4076-9182-507e27c571fb",
   "metadata": {},
   "source": [
    "<img src=\"Python-logo-notext.svg.png\" width=200>"
   ]
  },
  {
   "cell_type": "markdown",
   "id": "85dc15f3-b94c-4798-b5c9-54fa715e4436",
   "metadata": {},
   "source": [
    "Otro tema importante es el de *Business Intelligence*  \n",
    "   \n",
    "Si tienes dudas, puedes escribirme a: <font color=\"BLUE\">alberto.romero@thebridgeschool.es</font>\n",
    "\n",
    "Y en esta página se aprende mucho de machine learning: <font color=\"BLUE\">**página con ML**</font>"
   ]
  },
  {
   "cell_type": "markdown",
   "id": "e974afdd-3f76-40b8-9788-78ab55713bf3",
   "metadata": {},
   "source": [
    "## **Ejercicio 2**"
   ]
  },
  {
   "cell_type": "markdown",
   "id": "96283b82-b794-4592-b010-2b2d3442a78a",
   "metadata": {},
   "source": [
    "Para este ejercicio vas a crear dos nuevos elementos que no hemos visto en la teoría, tendrás que buscar en google cómo hacer: una tabla   \n",
    "y una fórmula. Busca en la web la sintaxis y replica ambos elementos.(no es necesaria la tira azul)"
   ]
  },
  {
   "cell_type": "markdown",
   "id": "6098f415-ec06-4df8-9d08-ed0f080f2bb9",
   "metadata": {},
   "source": [
    "|Ramp Up|Data Analytics|Machine Learning|Data & Business\n",
    "|-----|-----|-----|-----|\n",
    "|Python|EDA|Supervised|Productivización\n",
    "|Estadística|R|Non Supervised|Storytelling\n",
    "|SQL|Feat.Eng.|Deep Learning|API"
   ]
  },
  {
   "cell_type": "markdown",
   "id": "a380777b-0862-4eb3-83b9-6633f0e68c82",
   "metadata": {},
   "source": [
    "$$\\sqrt {3x - 1} + (1+x)^2$$"
   ]
  },
  {
   "cell_type": "code",
   "execution_count": null,
   "id": "64c2744b-cbe6-47b6-8133-0d86fb47e18b",
   "metadata": {},
   "outputs": [],
   "source": []
  }
 ],
 "metadata": {
  "kernelspec": {
   "display_name": "Python 3 (ipykernel)",
   "language": "python",
   "name": "python3"
  },
  "language_info": {
   "codemirror_mode": {
    "name": "ipython",
    "version": 3
   },
   "file_extension": ".py",
   "mimetype": "text/x-python",
   "name": "python",
   "nbconvert_exporter": "python",
   "pygments_lexer": "ipython3",
   "version": "3.13.1"
  }
 },
 "nbformat": 4,
 "nbformat_minor": 5
}
